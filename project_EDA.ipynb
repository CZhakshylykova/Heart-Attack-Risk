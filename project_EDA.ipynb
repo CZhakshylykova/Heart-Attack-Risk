{
 "cells": [
  {
   "cell_type": "markdown",
   "metadata": {},
   "source": [
    "🩺\n",
    "# Heart Failure Dataset: Advanced EDA, Survival, and Modeling Notebook\n",
    "**Author:** Cholpon Zhakshylykova  \n",
    "**Data:** heart_failure.csv  \n",
    "**Goal:** Understand, visualize, and engineer features prior to modeling.\n"
   ]
  },
  {
   "cell_type": "code",
   "execution_count": 21,
   "metadata": {},
   "outputs": [],
   "source": [
    "# 1. Imports & Setup\n",
    "import pandas as pd\n",
    "import numpy as np\n",
    "import matplotlib.pyplot as plt\n",
    "import seaborn as sns\n",
    "import missingno as msno\n",
    "from scipy import stats\n",
    "import math\n",
    "import os\n",
    "\n",
    "sns.set_palette(\"husl\")\n",
    "plt.style.use('seaborn-v0_8')\n",
    "os.makedirs('plots', exist_ok=True)\n"
   ]
  },
  {
   "cell_type": "markdown",
   "metadata": {},
   "source": [
    "## 2. Data Loading & Initial Checks\n",
    "- Shape, info, missing values, duplicates\n",
    "- Quick view of data"
   ]
  },
  {
   "cell_type": "code",
   "execution_count": null,
   "metadata": {},
   "outputs": [],
   "source": [
    "# 2. Load Data & Initial Checks\n",
    "df = pd.read_csv('heart_failure.csv')\n",
    "print(f\"Shape: {df.shape}\")\n",
    "df.info()\n",
    "display(df.head())\n",
    "\n",
    "#missing data\n",
    "if df.isnull().values.any():\n",
    "    print(\"Missing data detected.\")\n",
    "else:\n",
    "    print(\"No missing data found.\")\n",
    "\n",
    "# Check for duplicates\n",
    "dup_count = df.duplicated().sum()\n",
    "print(f\"Duplicate rows: {dup_count}\")\n",
    "if dup_count > 0:\n",
    "    display(df[df.duplicated()])\n",
    "else:\n",
    "    print(\"No exact duplicates found.\")\n"
   ]
  },
  {
   "cell_type": "markdown",
   "metadata": {},
   "source": [
    "## 3. Feature Descriptions\n",
    "\n",
    "**Clinical Meaning Reference**  \n",
    "(Feel free to delete this cell after EDA if you want a tighter report!)\n"
   ]
  },
  {
   "cell_type": "code",
   "execution_count": null,
   "metadata": {},
   "outputs": [],
   "source": [
    "feature_descriptions = {\n",
    "    'age': 'Age of the patient (years)',\n",
    "    'anaemia': 'Decrease of red blood cells or hemoglobin (boolean)',\n",
    "    'creatinine_phosphokinase': 'Level of CPK enzyme in blood (mcg/L)',\n",
    "    'diabetes': 'If the patient has diabetes (boolean)',\n",
    "    'ejection_fraction': 'Percentage of blood leaving the heart at each contraction (%)',\n",
    "    'high_blood_pressure': 'If patient has hypertension (boolean)',\n",
    "    'platelets': 'Platelets in blood (kiloplatelets/mL)',\n",
    "    'serum_creatinine': 'Level of serum creatinine in the blood (mg/dL)',\n",
    "    'serum_sodium': 'Level of serum sodium in the blood (mEq/L)',\n",
    "    'sex': '1 = Male, 0 = Female',\n",
    "    'smoking': 'If the patient smokes (boolean)',\n",
    "    'time': 'Follow-up period (days)',\n",
    "    'DEATH_EVENT': 'If patient died during follow-up (boolean, target)'\n",
    "}\n",
    "for k,v in feature_descriptions.items():\n",
    "    print(f\"{k}: {v}\")\n"
   ]
  },
  {
   "cell_type": "markdown",
   "metadata": {},
   "source": [
    "## 4. Descriptive Statistics & class balance\n",
    "\n"
   ]
  },
  {
   "cell_type": "code",
   "execution_count": null,
   "metadata": {},
   "outputs": [],
   "source": [
    "# Numeric summary\n",
    "display(df[[\"age\", \"creatinine_phosphokinase\", \"ejection_fraction\", \"platelets\", \"serum_creatinine\", \"serum_sodium\", \"time\"]].describe())\n",
    "\n",
    "# Class balance\n",
    "print(\"\\nTarget class balance:\")\n",
    "print(df['DEATH_EVENT'].value_counts())\n",
    "print('Minority class %: {:.1f}%'.format(100 * df['DEATH_EVENT'].value_counts(normalize=True)[1]))\n",
    "sns.countplot(x='DEATH_EVENT', data=df, palette=['lightgreen','lightcoral'])\n",
    "plt.title('Survival (0) vs Death (1)')\n",
    "plt.xticks([0,1],['Survived','Died'])\n",
    "plt.ylabel('Count')\n",
    "plt.show()\n"
   ]
  },
  {
   "cell_type": "markdown",
   "metadata": {},
   "source": [
    "- Class imbalance, the amount of the survived and died are not balanced"
   ]
  },
  {
   "cell_type": "code",
   "execution_count": null,
   "metadata": {},
   "outputs": [],
   "source": [
    "# Histograms for all numerics\n",
    "numeric_cols = [\"age\", \"creatinine_phosphokinase\", \"ejection_fraction\", \"platelets\", \"serum_creatinine\", \"serum_sodium\", \"time\"]\n",
    "df[numeric_cols].hist(bins=16, figsize=(16, 10), layout=(3, 4), color='skyblue', edgecolor='black')\n",
    "plt.suptitle(\"Histograms of Numeric Features\", fontsize=18)\n",
    "plt.tight_layout(rect=[0,0,1,0.97])\n",
    "plt.show()\n",
    "\n",
    "# KDE by target\n",
    "fig, axes = plt.subplots(math.ceil(len(numeric_cols)/4), 4, figsize=(18, 8))\n",
    "axes = axes.flatten()\n",
    "\n",
    "for ax, col in zip(axes, numeric_cols):\n",
    "    [sns.kdeplot(df[df['DEATH_EVENT']==event][col], fill=True, ax=ax, label=event, color=c)\n",
    "     for event, c in zip([0,1], ['blue','red'])]\n",
    "    ax.set_title(col)\n",
    "    ax.legend(title='DEATH_EVENT')\n",
    "    ax.set_xlabel(\"\")\n",
    "    ax.set_ylabel(\"\")\n",
    "\n",
    "[ax.axis('off') for ax in axes[len(numeric_cols):]]  # Hide unused axes\n",
    "\n",
    "fig.suptitle(\"KDE of Numeric Features by Survival\", y=1.02, fontsize=18)\n",
    "plt.tight_layout()\n",
    "plt.show()\n",
    "\n"
   ]
  },
  {
   "cell_type": "code",
   "execution_count": null,
   "metadata": {},
   "outputs": [],
   "source": [
    "# Peform normality test\n",
    "numeric_cols = [\"age\", \"creatinine_phosphokinase\", \"ejection_fraction\", \"platelets\", \"serum_creatinine\", \"serum_sodium\", \"time\"]\n",
    "\n",
    "# Create a table summarizing the Shapiro-Wilk test results\n",
    "normality_results = []\n",
    "for col in numeric_cols:\n",
    "    stat, p = stats.shapiro(df[col])\n",
    "    normality_results.append({'Feature': col, 'Statistic': stat, 'p-value': p})\n",
    "normality_df = pd.DataFrame(normality_results)\n",
    "display(normality_df.style.format({'Statistic': '{:.3f}', 'p-value': '{:.3f}'}).background_gradient(cmap=\"coolwarm\", subset=['p-value']))"
   ]
  },
  {
   "cell_type": "markdown",
   "metadata": {},
   "source": [
    "- Features are not normally distributed. "
   ]
  },
  {
   "cell_type": "markdown",
   "metadata": {},
   "source": [
    "## 5. Outlier Checks\n"
   ]
  },
  {
   "cell_type": "code",
   "execution_count": null,
   "metadata": {},
   "outputs": [],
   "source": [
    "\n",
    "# --- Boxplots by target, all in one figure ---\n",
    "ncols, nrows = 4, math.ceil(len(numeric_cols) / 4)\n",
    "\n",
    "fig, axes = plt.subplots(nrows, ncols, figsize=(18, 2.8 * nrows))\n",
    "axes = axes.flatten()\n",
    "\n",
    "for ax, col in zip(axes, numeric_cols):\n",
    "    sns.boxplot(x='DEATH_EVENT', y=col, data=df, hue='DEATH_EVENT', palette=['blue', 'red'], ax=ax, legend=False)\n",
    "    ax.set_title(col)\n",
    "    ax.set_xlabel(\"\")\n",
    "    ax.set_ylabel(\"\")\n",
    "    ax.set_xticks([0, 1])  # Explicitly set tick positions\n",
    "    ax.set_xticklabels(['Survived', 'Died'])  # Set tick labels\n",
    "for ax in axes[len(numeric_cols):]:\n",
    "    ax.axis('off')\n",
    "fig.suptitle(\"Boxplots of Numeric Features by Survival\", y=1.02, fontsize=18)\n",
    "plt.tight_layout()\n",
    "plt.show()"
   ]
  },
  {
   "cell_type": "markdown",
   "metadata": {},
   "source": [
    "- Serum Creatinine look like an interesting feature, since it is higher among the dead population. \n",
    "- Ejektion fraction (Amount of the blood that is pumped from the heart in one beat) is lower for the survived patient. \n",
    "- Serum Sodium is interestingly lower for dead population\n",
    "- Time is low for the died patient, maybe regular medical intervention or check ups play a role in the survival for the heart deceased patients. "
   ]
  },
  {
   "cell_type": "markdown",
   "metadata": {},
   "source": [
    "## 6. Correlation Analysis\n"
   ]
  },
  {
   "cell_type": "code",
   "execution_count": null,
   "metadata": {},
   "outputs": [],
   "source": [
    "# Pearson heatmap\n",
    "# Pearson correlation messures linear relationships between features by calculating the covariance between them, normalized by their standard deviations.\n",
    "plt.figure(figsize=(12,9))\n",
    "sns.heatmap(df[numeric_cols].corr(), annot=True, fmt=\".2f\", cmap=\"coolwarm\", vmin=-1, vmax=1, square=True)\n",
    "plt.title(\"Pearson Correlation Matrix\")\n",
    "plt.tight_layout()\n",
    "plt.show()\n",
    "\n",
    "# Spearman heatmap\n",
    "# Spearman correlation measures monotonic relationships between features, making it robust to outliers and non-linear relationships.\n",
    "plt.figure(figsize=(12,9))\n",
    "sns.heatmap(df[numeric_cols].corr(method='spearman'), annot=True, fmt=\".2f\", cmap=\"vlag\", vmin=-1, vmax=1, square=True)\n",
    "plt.title(\"Spearman Correlation Matrix\")\n",
    "plt.tight_layout()\n",
    "plt.show()\n",
    "\n",
    "# Highly correlated feature pairs (Pearson, abs > 0.7)\n",
    "corrmat = df[numeric_cols].corr().abs()\n",
    "high_corrs = (\n",
    "    corrmat.where(np.triu(np.ones(corrmat.shape), k=1).astype(bool))\n",
    "    .stack()\n",
    "    .reset_index()\n",
    "    .rename(columns={'level_0': 'Feature 1', 'level_1': 'Feature 2', 0: 'Correlation'})\n",
    ")\n",
    "\n",
    "values = high_corrs[high_corrs['Correlation'] > 0.7].sort_values(by='Correlation', ascending=False)\n",
    "\n",
    "if not values.empty:  # Check if the DataFrame is not empty\n",
    "    print(\"Feature pairs with absolute Pearson correlation > 0.7:\")\n",
    "    display(values)\n",
    "else:\n",
    "    print(\"No feature pairs with absolute Pearson correlation > 0.7 found.\")\n",
    "\n",
    "# Correlation with DEATH_EVENT\n",
    "corr_target = df[numeric_cols + ['DEATH_EVENT']].corr()['DEATH_EVENT'].sort_values(ascending=False)\n",
    "print(\"\\nPearson correlation with DEATH_EVENT:\")\n",
    "print(corr_target)\n",
    "print(\"\\nTop 5 absolute correlations with DEATH_EVENT:\")\n",
    "print(corr_target.drop('DEATH_EVENT').abs().sort_values(ascending=False).head())\n"
   ]
  },
  {
   "cell_type": "markdown",
   "metadata": {},
   "source": [
    "- There is no strong correlation among the different numerich features using both methods. \n",
    "- Absence of the linear relationship is good for the implementations linear models. "
   ]
  },
  {
   "cell_type": "markdown",
   "metadata": {},
   "source": [
    "## 7. Pairplot and Violin Plots\n"
   ]
  },
  {
   "cell_type": "code",
   "execution_count": null,
   "metadata": {},
   "outputs": [],
   "source": [
    "\n",
    "# Pairplot of key features by target\n",
    "# This visualizes the distribution and relationships between key numeric features, colored by survival status.\n",
    "# It helps identify patterns and potential clusters in the data.\n",
    "# Pairplot is useful for exploring relationships between multiple variables and the target variable.\n",
    "# It can reveal correlations, distributions, and potential outliers.\n",
    "\n",
    "\n",
    "# Pairplot of key features by target\n",
    "sns.pairplot(df[[\"age\", \"creatinine_phosphokinase\", \"ejection_fraction\", \"platelets\", \"serum_creatinine\", \"serum_sodium\", \"time\", \"DEATH_EVENT\"]],\n",
    "             hue='DEATH_EVENT', palette=['blue', 'red'])\n",
    "plt.suptitle('Pairplot of Key Features by Survival', y=1.02)\n",
    "plt.show()\n",
    "\n",
    "# Violin plots for numeric features by target\n",
    "numeric_cols = [\"age\", \"creatinine_phosphokinase\", \"ejection_fraction\", \"platelets\", \"serum_creatinine\", \"serum_sodium\", \"time\"]\n",
    "fig, axes = plt.subplots(2, 4, figsize=(18, 10))\n",
    "axes = axes.flatten()\n",
    "\n",
    "for ax, feat in zip(axes, numeric_cols):\n",
    "    sns.violinplot(x='DEATH_EVENT', y=feat, data=df, hue='DEATH_EVENT', palette=['blue', 'red'], ax=ax, legend=False)\n",
    "    ax.set_title(f'{feat.replace(\"_\", \" \").title()} by Survival Status')\n",
    "    ax.set_xlabel(\"\")\n",
    "    ax.set_ylabel(\"\")\n",
    "    ax.set_xticks([0, 1])  # Explicitly set tick positions\n",
    "    ax.set_xticklabels(['Survived', 'Died'])  # Set tick labels\n",
    "\n",
    "# Hide unused subplot\n",
    "for ax in axes[len(numeric_cols):]:\n",
    "    ax.axis('off')\n",
    "\n",
    "fig.suptitle(\"Violin Plots of Numeric Features by Survival\", y=1.02, fontsize=18)\n",
    "plt.tight_layout()\n",
    "plt.show()"
   ]
  },
  {
   "cell_type": "markdown",
   "metadata": {},
   "source": [
    "## 8. Statistical Tests (t-test, chi-square, effect size)\n",
    "\n"
   ]
  },
  {
   "cell_type": "code",
   "execution_count": null,
   "metadata": {},
   "outputs": [],
   "source": [
    "import pandas as pd\n",
    "from scipy import stats\n",
    "import numpy as np\n",
    "\n",
    "\n",
    "# Cohen's d is a measure of effect size that indicates the standardized difference between two means.\n",
    "# It is calculated as the difference between the means of two groups divided by the pooled standard deviation.\n",
    "# It is commonly used in hypothesis testing to quantify the magnitude of differences between groups.\n",
    "# I will use the both thte t-test and the Mann-Whitney U test to compare the distributions of numeric features between the two target classes (DEATH_EVENT).\n",
    "# But remember the features are not normally distributed, so the t-test may not be appropriate.\n",
    "\n",
    "\n",
    "def cohens_d(x, y):\n",
    "    return (x.mean()-y.mean())/np.sqrt((x.std()**2 + y.std()**2)/2)\n",
    "\n",
    "numeric_cols = [\"age\", \"creatinine_phosphokinase\", \"ejection_fraction\",\"platelets\", \"serum_creatinine\", \"serum_sodium\", \"time\"]\n",
    "\n",
    "num_stats = []\n",
    "for feat in numeric_cols:\n",
    "    x0 = df[df['DEATH_EVENT']==0][feat]\n",
    "    x1 = df[df['DEATH_EVENT']==1][feat]\n",
    "    t, p = stats.ttest_ind(x0, x1)\n",
    "    u, p_u = stats.mannwhitneyu(x0, x1)\n",
    "    d = cohens_d(x0, x1)\n",
    "    num_stats.append({\n",
    "        'Feature': feat,\n",
    "        't-test p': p,\n",
    "        'Mann-Whitney p': p_u,\n",
    "        \"Cohen's d\": d\n",
    "    })\n",
    "\n",
    "num_stats_df = pd.DataFrame(num_stats)\n",
    "display(num_stats_df.style.format({\n",
    "    't-test p': '{:.4f}',\n",
    "    'Mann-Whitney p': '{:.4f}',\n",
    "    \"Cohen's d\": '{:.2f}'\n",
    "}).background_gradient(cmap=\"Blues\", subset=[\"Cohen's d\"]))\n",
    "\n",
    "# --- Categorical tests ---\n",
    "cat_feats = ['anaemia','diabetes','high_blood_pressure','sex','smoking']\n",
    "cat_stats = []\n",
    "for feat in cat_feats:\n",
    "    crosstab = pd.crosstab(df[feat], df['DEATH_EVENT'])\n",
    "    chi2, p, dof, _ = stats.chi2_contingency(crosstab)\n",
    "    cat_stats.append({\n",
    "        'Feature': feat,\n",
    "        'Chi2': chi2,\n",
    "        'p-value': p\n",
    "    })\n",
    "cat_stats_df = pd.DataFrame(cat_stats)\n",
    "display(cat_stats_df.style.format({'Chi2': '{:.2f}', 'p-value': '{:.4f}'}).background_gradient(cmap=\"Oranges\", subset=['Chi2']))"
   ]
  },
  {
   "cell_type": "markdown",
   "metadata": {},
   "source": [
    "## 9. Key EDA Insights\n",
    "\n",
    "- No missing values or duplicate rows.\n",
    "- Mortality rate is ~32% (data is imbalanced).\n",
    "- Some numeric features are skewed (used log transforms).\n",
    "- *Statistical tests suggest age, ejection fraction, serum creatinine, and comorbidity are strong predictors.*\n",
    "\n",
    "*Proceed to the Modeling notebook for further analysis and prediction!*\n"
   ]
  },
  {
   "cell_type": "markdown",
   "metadata": {},
   "source": []
  }
 ],
 "metadata": {
  "kernelspec": {
   "display_name": ".venv",
   "language": "python",
   "name": "python3"
  },
  "language_info": {
   "codemirror_mode": {
    "name": "ipython",
    "version": 3
   },
   "file_extension": ".py",
   "mimetype": "text/x-python",
   "name": "python",
   "nbconvert_exporter": "python",
   "pygments_lexer": "ipython3",
   "version": "3.13.4"
  }
 },
 "nbformat": 4,
 "nbformat_minor": 2
}
