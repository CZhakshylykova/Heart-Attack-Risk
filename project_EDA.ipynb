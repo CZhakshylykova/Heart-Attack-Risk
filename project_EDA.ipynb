    "\ud83e\ude7a\n",
    "os.makedirs('plots', exist_ok=True)\n",
    "try:\n",
    "    from IPython.display import display\n",
    "except ImportError:\n",
    "    def display(x):\n        print(x)\n"
}